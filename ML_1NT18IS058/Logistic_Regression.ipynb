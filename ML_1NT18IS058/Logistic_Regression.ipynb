{
 "cells": [
  {
   "cell_type": "code",
   "execution_count": 167,
   "id": "spiritual-cable",
   "metadata": {},
   "outputs": [],
   "source": [
    "import pandas as pd\n",
    "import numpy as np\n",
    "import math"
   ]
  },
  {
   "cell_type": "code",
   "execution_count": 168,
   "id": "guilty-courage",
   "metadata": {},
   "outputs": [
    {
     "data": {
      "text/html": [
       "<div>\n",
       "<style scoped>\n",
       "    .dataframe tbody tr th:only-of-type {\n",
       "        vertical-align: middle;\n",
       "    }\n",
       "\n",
       "    .dataframe tbody tr th {\n",
       "        vertical-align: top;\n",
       "    }\n",
       "\n",
       "    .dataframe thead th {\n",
       "        text-align: right;\n",
       "    }\n",
       "</style>\n",
       "<table border=\"1\" class=\"dataframe\">\n",
       "  <thead>\n",
       "    <tr style=\"text-align: right;\">\n",
       "      <th></th>\n",
       "      <th>x</th>\n",
       "      <th>y</th>\n",
       "      <th>z</th>\n",
       "    </tr>\n",
       "  </thead>\n",
       "  <tbody>\n",
       "    <tr>\n",
       "      <th>0</th>\n",
       "      <td>34.623660</td>\n",
       "      <td>78.024693</td>\n",
       "      <td>0</td>\n",
       "    </tr>\n",
       "    <tr>\n",
       "      <th>1</th>\n",
       "      <td>30.286711</td>\n",
       "      <td>43.894998</td>\n",
       "      <td>0</td>\n",
       "    </tr>\n",
       "    <tr>\n",
       "      <th>2</th>\n",
       "      <td>35.847409</td>\n",
       "      <td>72.902198</td>\n",
       "      <td>0</td>\n",
       "    </tr>\n",
       "    <tr>\n",
       "      <th>3</th>\n",
       "      <td>60.182599</td>\n",
       "      <td>86.308552</td>\n",
       "      <td>1</td>\n",
       "    </tr>\n",
       "    <tr>\n",
       "      <th>4</th>\n",
       "      <td>79.032736</td>\n",
       "      <td>75.344376</td>\n",
       "      <td>1</td>\n",
       "    </tr>\n",
       "    <tr>\n",
       "      <th>...</th>\n",
       "      <td>...</td>\n",
       "      <td>...</td>\n",
       "      <td>...</td>\n",
       "    </tr>\n",
       "    <tr>\n",
       "      <th>95</th>\n",
       "      <td>83.489163</td>\n",
       "      <td>48.380286</td>\n",
       "      <td>1</td>\n",
       "    </tr>\n",
       "    <tr>\n",
       "      <th>96</th>\n",
       "      <td>42.261701</td>\n",
       "      <td>87.103851</td>\n",
       "      <td>1</td>\n",
       "    </tr>\n",
       "    <tr>\n",
       "      <th>97</th>\n",
       "      <td>99.315009</td>\n",
       "      <td>68.775409</td>\n",
       "      <td>1</td>\n",
       "    </tr>\n",
       "    <tr>\n",
       "      <th>98</th>\n",
       "      <td>55.340018</td>\n",
       "      <td>64.931938</td>\n",
       "      <td>1</td>\n",
       "    </tr>\n",
       "    <tr>\n",
       "      <th>99</th>\n",
       "      <td>74.775893</td>\n",
       "      <td>89.529813</td>\n",
       "      <td>1</td>\n",
       "    </tr>\n",
       "  </tbody>\n",
       "</table>\n",
       "<p>100 rows × 3 columns</p>\n",
       "</div>"
      ],
      "text/plain": [
       "            x          y  z\n",
       "0   34.623660  78.024693  0\n",
       "1   30.286711  43.894998  0\n",
       "2   35.847409  72.902198  0\n",
       "3   60.182599  86.308552  1\n",
       "4   79.032736  75.344376  1\n",
       "..        ...        ... ..\n",
       "95  83.489163  48.380286  1\n",
       "96  42.261701  87.103851  1\n",
       "97  99.315009  68.775409  1\n",
       "98  55.340018  64.931938  1\n",
       "99  74.775893  89.529813  1\n",
       "\n",
       "[100 rows x 3 columns]"
      ]
     },
     "execution_count": 168,
     "metadata": {},
     "output_type": "execute_result"
    }
   ],
   "source": [
    "data=pd.read_csv('/home/root1/ML_1NT18IS058/StudentUniversitylogistic.csv')\n",
    "data"
   ]
  },
  {
   "cell_type": "code",
   "execution_count": 169,
   "id": "signal-start",
   "metadata": {},
   "outputs": [
    {
     "name": "stdout",
     "output_type": "stream",
     "text": [
      "<class 'pandas.core.frame.DataFrame'>\n",
      "RangeIndex: 100 entries, 0 to 99\n",
      "Data columns (total 3 columns):\n",
      " #   Column  Non-Null Count  Dtype  \n",
      "---  ------  --------------  -----  \n",
      " 0   x       100 non-null    float64\n",
      " 1   y       100 non-null    float64\n",
      " 2   z       100 non-null    int64  \n",
      "dtypes: float64(2), int64(1)\n",
      "memory usage: 2.5 KB\n"
     ]
    }
   ],
   "source": [
    "data.info()"
   ]
  },
  {
   "cell_type": "code",
   "execution_count": 170,
   "id": "annual-ancient",
   "metadata": {},
   "outputs": [],
   "source": [
    "x1=data['x'].values\n",
    "x2=data['y'].values\n",
    "y=data['z'].values"
   ]
  },
  {
   "cell_type": "code",
   "execution_count": 171,
   "id": "designed-premiere",
   "metadata": {},
   "outputs": [
    {
     "data": {
      "text/html": [
       "<div>\n",
       "<style scoped>\n",
       "    .dataframe tbody tr th:only-of-type {\n",
       "        vertical-align: middle;\n",
       "    }\n",
       "\n",
       "    .dataframe tbody tr th {\n",
       "        vertical-align: top;\n",
       "    }\n",
       "\n",
       "    .dataframe thead th {\n",
       "        text-align: right;\n",
       "    }\n",
       "</style>\n",
       "<table border=\"1\" class=\"dataframe\">\n",
       "  <thead>\n",
       "    <tr style=\"text-align: right;\">\n",
       "      <th></th>\n",
       "      <th>x</th>\n",
       "      <th>y</th>\n",
       "      <th>z</th>\n",
       "    </tr>\n",
       "  </thead>\n",
       "  <tbody>\n",
       "    <tr>\n",
       "      <th>0</th>\n",
       "      <td>34.623660</td>\n",
       "      <td>78.024693</td>\n",
       "      <td>0</td>\n",
       "    </tr>\n",
       "    <tr>\n",
       "      <th>1</th>\n",
       "      <td>30.286711</td>\n",
       "      <td>43.894998</td>\n",
       "      <td>0</td>\n",
       "    </tr>\n",
       "    <tr>\n",
       "      <th>2</th>\n",
       "      <td>35.847409</td>\n",
       "      <td>72.902198</td>\n",
       "      <td>0</td>\n",
       "    </tr>\n",
       "    <tr>\n",
       "      <th>3</th>\n",
       "      <td>60.182599</td>\n",
       "      <td>86.308552</td>\n",
       "      <td>1</td>\n",
       "    </tr>\n",
       "    <tr>\n",
       "      <th>4</th>\n",
       "      <td>79.032736</td>\n",
       "      <td>75.344376</td>\n",
       "      <td>1</td>\n",
       "    </tr>\n",
       "  </tbody>\n",
       "</table>\n",
       "</div>"
      ],
      "text/plain": [
       "           x          y  z\n",
       "0  34.623660  78.024693  0\n",
       "1  30.286711  43.894998  0\n",
       "2  35.847409  72.902198  0\n",
       "3  60.182599  86.308552  1\n",
       "4  79.032736  75.344376  1"
      ]
     },
     "execution_count": 171,
     "metadata": {},
     "output_type": "execute_result"
    }
   ],
   "source": [
    "data.head()"
   ]
  },
  {
   "cell_type": "code",
   "execution_count": 172,
   "id": "floating-chrome",
   "metadata": {},
   "outputs": [
    {
     "data": {
      "text/html": [
       "<div>\n",
       "<style scoped>\n",
       "    .dataframe tbody tr th:only-of-type {\n",
       "        vertical-align: middle;\n",
       "    }\n",
       "\n",
       "    .dataframe tbody tr th {\n",
       "        vertical-align: top;\n",
       "    }\n",
       "\n",
       "    .dataframe thead th {\n",
       "        text-align: right;\n",
       "    }\n",
       "</style>\n",
       "<table border=\"1\" class=\"dataframe\">\n",
       "  <thead>\n",
       "    <tr style=\"text-align: right;\">\n",
       "      <th></th>\n",
       "      <th>x</th>\n",
       "      <th>y</th>\n",
       "    </tr>\n",
       "  </thead>\n",
       "  <tbody>\n",
       "    <tr>\n",
       "      <th>0</th>\n",
       "      <td>34.623660</td>\n",
       "      <td>78.024693</td>\n",
       "    </tr>\n",
       "    <tr>\n",
       "      <th>1</th>\n",
       "      <td>30.286711</td>\n",
       "      <td>43.894998</td>\n",
       "    </tr>\n",
       "    <tr>\n",
       "      <th>2</th>\n",
       "      <td>35.847409</td>\n",
       "      <td>72.902198</td>\n",
       "    </tr>\n",
       "    <tr>\n",
       "      <th>3</th>\n",
       "      <td>60.182599</td>\n",
       "      <td>86.308552</td>\n",
       "    </tr>\n",
       "    <tr>\n",
       "      <th>4</th>\n",
       "      <td>79.032736</td>\n",
       "      <td>75.344376</td>\n",
       "    </tr>\n",
       "    <tr>\n",
       "      <th>...</th>\n",
       "      <td>...</td>\n",
       "      <td>...</td>\n",
       "    </tr>\n",
       "    <tr>\n",
       "      <th>95</th>\n",
       "      <td>83.489163</td>\n",
       "      <td>48.380286</td>\n",
       "    </tr>\n",
       "    <tr>\n",
       "      <th>96</th>\n",
       "      <td>42.261701</td>\n",
       "      <td>87.103851</td>\n",
       "    </tr>\n",
       "    <tr>\n",
       "      <th>97</th>\n",
       "      <td>99.315009</td>\n",
       "      <td>68.775409</td>\n",
       "    </tr>\n",
       "    <tr>\n",
       "      <th>98</th>\n",
       "      <td>55.340018</td>\n",
       "      <td>64.931938</td>\n",
       "    </tr>\n",
       "    <tr>\n",
       "      <th>99</th>\n",
       "      <td>74.775893</td>\n",
       "      <td>89.529813</td>\n",
       "    </tr>\n",
       "  </tbody>\n",
       "</table>\n",
       "<p>100 rows × 2 columns</p>\n",
       "</div>"
      ],
      "text/plain": [
       "            x          y\n",
       "0   34.623660  78.024693\n",
       "1   30.286711  43.894998\n",
       "2   35.847409  72.902198\n",
       "3   60.182599  86.308552\n",
       "4   79.032736  75.344376\n",
       "..        ...        ...\n",
       "95  83.489163  48.380286\n",
       "96  42.261701  87.103851\n",
       "97  99.315009  68.775409\n",
       "98  55.340018  64.931938\n",
       "99  74.775893  89.529813\n",
       "\n",
       "[100 rows x 2 columns]"
      ]
     },
     "execution_count": 172,
     "metadata": {},
     "output_type": "execute_result"
    }
   ],
   "source": [
    "X = data.iloc[:,0:2]\n",
    "X"
   ]
  },
  {
   "cell_type": "code",
   "execution_count": 173,
   "id": "furnished-innocent",
   "metadata": {},
   "outputs": [
    {
     "data": {
      "text/plain": [
       "0     0\n",
       "1     0\n",
       "2     0\n",
       "3     1\n",
       "4     1\n",
       "     ..\n",
       "95    1\n",
       "96    1\n",
       "97    1\n",
       "98    1\n",
       "99    1\n",
       "Name: z, Length: 100, dtype: int64"
      ]
     },
     "execution_count": 173,
     "metadata": {},
     "output_type": "execute_result"
    }
   ],
   "source": [
    "Y = data.iloc[:,-1]\n",
    "Y"
   ]
  },
  {
   "cell_type": "code",
   "execution_count": 174,
   "id": "military-chocolate",
   "metadata": {},
   "outputs": [
    {
     "data": {
      "text/plain": [
       "79    0\n",
       "61    0\n",
       "20    0\n",
       "19    1\n",
       "17    0\n",
       "     ..\n",
       "67    0\n",
       "54    0\n",
       "24    1\n",
       "55    0\n",
       "28    0\n",
       "Name: z, Length: 80, dtype: int64"
      ]
     },
     "execution_count": 174,
     "metadata": {},
     "output_type": "execute_result"
    }
   ],
   "source": [
    "from sklearn.model_selection import train_test_split\n",
    "X_train,X_test,y_train,y_test=train_test_split(X,Y,test_size=0.2)\n",
    "y_train"
   ]
  },
  {
   "cell_type": "code",
   "execution_count": 175,
   "id": "temporal-nickel",
   "metadata": {},
   "outputs": [
    {
     "name": "stdout",
     "output_type": "stream",
     "text": [
      "            x          y\n",
      "0   34.623660  78.024693\n",
      "1   30.286711  43.894998\n",
      "2   35.847409  72.902198\n",
      "3   60.182599  86.308552\n",
      "4   79.032736  75.344376\n",
      "..        ...        ...\n",
      "95  83.489163  48.380286\n",
      "96  42.261701  87.103851\n",
      "97  99.315009  68.775409\n",
      "98  55.340018  64.931938\n",
      "99  74.775893  89.529813\n",
      "\n",
      "[100 rows x 2 columns]\n",
      "StandardScaler()\n",
      "[65.64427406 66.22199809]\n"
     ]
    }
   ],
   "source": [
    "X = data.iloc[:,0:2]\n",
    "print(X)\n",
    "\n",
    "from sklearn.preprocessing import StandardScaler\n",
    "scaler = StandardScaler().fit(X)\n",
    "print(scaler)\n",
    "print(scaler.mean_)\n",
    "X = scaler.transform(X)"
   ]
  },
  {
   "cell_type": "code",
   "execution_count": 176,
   "id": "hearing-vancouver",
   "metadata": {},
   "outputs": [
    {
     "data": {
      "text/plain": [
       "array([82.22666158, 35.28611282, 67.37202755, 76.97878373, 67.94685548,\n",
       "       90.44855097, 77.19303493, 34.62365962, 61.37928945, 78.63542435,\n",
       "       99.8278578 , 44.66826172, 79.03273605, 51.04775177, 54.63510555,\n",
       "       97.64563396, 85.40451939, 42.26170081, 68.46852179, 51.54772027,\n",
       "       90.54671411, 97.77159928, 52.34800399, 99.27252693, 32.57720017,\n",
       "       75.01365839, 69.36458876, 89.67677575, 35.84740877, 74.24869137,\n",
       "       60.45788574, 89.84580671, 82.36875376, 74.775893  , 52.04540477,\n",
       "       83.90239366, 69.07014406, 50.4581598 , 75.39561147, 62.0730638 ,\n",
       "       34.18364003, 95.86155507, 88.91389642, 67.31925747, 70.66150955,\n",
       "       55.34001756, 91.5649745 , 34.52451385, 75.47770201, 75.02474557,\n",
       "       53.97105215, 79.94481794, 32.72283304, 45.08327748, 61.10666454,\n",
       "       62.22267576, 94.83450672, 80.19018075, 64.17698887, 74.78925296,\n",
       "       60.18259939, 72.34649423, 56.2538175 , 55.48216114, 93.1143888 ,\n",
       "       83.48916274, 38.7858038 , 71.79646206, 99.31500881, 60.45555629,\n",
       "       40.23689374, 66.74671857, 40.45755098, 94.09433113, 76.0987867 ,\n",
       "       49.07256322, 50.28649612, 77.92409145, 49.58667722, 61.83020602])"
      ]
     },
     "execution_count": 176,
     "metadata": {},
     "output_type": "execute_result"
    }
   ],
   "source": [
    "X_train1 = X_train['x'].values\n",
    "X_train1"
   ]
  },
  {
   "cell_type": "code",
   "execution_count": 177,
   "id": "worthy-worry",
   "metadata": {},
   "outputs": [
    {
     "data": {
      "text/plain": [
       "array([42.71987854, 47.02051395, 42.83843832, 47.57596365, 46.67857411,\n",
       "       87.50879176, 70.4582    , 78.02469282, 72.80788731, 96.64742717,\n",
       "       72.36925193, 66.45008615, 75.34437644, 45.82270146, 52.21388588,\n",
       "       68.86157272, 57.05198398, 87.10385094, 85.5943071 , 46.85629026,\n",
       "       43.39060181, 86.72782233, 60.76950526, 60.999031  , 95.59854761,\n",
       "       30.60326323, 97.71869196, 65.79936593, 72.90219803, 69.82457123,\n",
       "       73.0949981 , 45.35828361, 40.61825516, 89.5298129 , 69.43286012,\n",
       "       56.30804622, 52.74046973, 75.80985953, 85.75993667, 96.76882412,\n",
       "       75.23772034, 38.22527806, 69.8037889 , 66.58935318, 92.92713789,\n",
       "       64.93193801, 88.69629255, 60.39634246, 90.424539  , 46.55401354,\n",
       "       89.20735014, 74.16311935, 43.30717306, 56.31637178, 96.51142588,\n",
       "       52.06099195, 45.6943068 , 44.82162893, 80.90806059, 41.57341523,\n",
       "       86.3085521 , 96.22759297, 39.26147251, 35.57070347, 38.80067034,\n",
       "       48.3802858 , 64.99568096, 78.45356225, 68.77540947, 42.50840944,\n",
       "       71.16774802, 60.99139403, 97.53518549, 77.15910509, 87.42056972,\n",
       "       51.88321182, 49.80453881, 68.97235999, 59.80895099, 50.25610789])"
      ]
     },
     "execution_count": 177,
     "metadata": {},
     "output_type": "execute_result"
    }
   ],
   "source": [
    "X_train2 = X_train['y'].values\n",
    "X_train2"
   ]
  },
  {
   "cell_type": "code",
   "execution_count": 178,
   "id": "mature-introduction",
   "metadata": {},
   "outputs": [
    {
     "data": {
      "text/plain": [
       "array([0, 0, 0, 1, 1, 0, 1, 1, 1, 1, 0, 0, 1, 1, 0, 1, 1, 0, 1, 1, 0, 1,\n",
       "       0, 0, 1, 1, 1, 0, 0, 0, 1, 1, 0, 1, 0, 0, 0, 1, 0, 0, 1, 0, 1, 0,\n",
       "       0, 0, 1, 1, 1, 1, 1, 1, 1, 0, 0, 0, 1, 0, 1, 1, 1, 0, 0, 0, 0, 0,\n",
       "       1, 0, 1, 1, 0, 1, 1, 1, 1, 1, 1, 1, 0, 0, 1, 1, 1, 1, 1, 1, 0, 1,\n",
       "       1, 0, 1, 1, 0, 1, 1, 1, 1, 1, 1, 1])"
      ]
     },
     "execution_count": 178,
     "metadata": {},
     "output_type": "execute_result"
    }
   ],
   "source": [
    "X_train3 = data['z'].values\n",
    "X_train3"
   ]
  },
  {
   "cell_type": "code",
   "execution_count": 179,
   "id": "welsh-pickup",
   "metadata": {},
   "outputs": [],
   "source": [
    "b0=0.0\n",
    "b1=0.0\n",
    "b2=0.0"
   ]
  },
  {
   "cell_type": "code",
   "execution_count": 180,
   "id": "dense-vermont",
   "metadata": {
    "scrolled": true
   },
   "outputs": [
    {
     "name": "stdout",
     "output_type": "stream",
     "text": [
      "82.22666158 42.71987854\n",
      "35.28611282 47.02051395\n",
      "67.37202755 42.83843832\n",
      "76.97878373 47.57596365\n",
      "67.94685548 46.67857411\n",
      "90.44855097 87.50879176\n",
      "77.19303493 70.4582\n",
      "34.62365962 78.02469282\n",
      "61.37928945 72.80788731\n",
      "78.63542435 96.64742717\n",
      "99.8278578 72.36925193\n",
      "44.66826172 66.45008615\n",
      "79.03273605 75.34437644\n",
      "51.04775177 45.82270146\n",
      "54.63510555 52.21388588\n",
      "97.64563396 68.86157272\n",
      "85.40451939 57.05198398\n",
      "42.26170081 87.10385094\n",
      "68.46852179 85.5943071\n",
      "51.54772027 46.85629026\n",
      "90.54671411 43.39060181\n",
      "97.77159928 86.72782233\n",
      "52.34800399 60.76950526\n",
      "99.27252693 60.999031\n",
      "32.57720017 95.59854761\n",
      "75.01365839 30.60326323\n",
      "69.36458876 97.71869196\n",
      "89.67677575 65.79936593\n",
      "35.84740877 72.90219803\n",
      "74.24869137 69.82457123\n",
      "60.45788574 73.0949981\n",
      "89.84580671 45.35828361\n",
      "82.36875376 40.61825516\n",
      "74.775893 89.5298129\n",
      "52.04540477 69.43286012\n",
      "83.90239366 56.30804622\n",
      "69.07014406 52.74046973\n",
      "50.4581598 75.80985953\n",
      "75.39561147 85.75993667\n",
      "62.0730638 96.76882412\n",
      "34.18364003 75.23772034\n",
      "95.86155507 38.22527806\n",
      "88.91389642 69.8037889\n",
      "67.31925747 66.58935318\n",
      "70.66150955 92.92713789\n",
      "55.34001756 64.93193801\n",
      "91.5649745 88.69629255\n",
      "34.52451385 60.39634246\n",
      "75.47770201 90.424539\n",
      "75.02474557 46.55401354\n",
      "53.97105215 89.20735014\n",
      "79.94481794 74.16311935\n",
      "32.72283304 43.30717306\n",
      "45.08327748 56.31637178\n",
      "61.10666454 96.51142588\n",
      "62.22267576 52.06099195\n",
      "94.83450672 45.6943068\n",
      "80.19018075 44.82162893\n",
      "64.17698887 80.90806059\n",
      "74.78925296 41.57341523\n",
      "60.18259939 86.3085521\n",
      "72.34649423 96.22759297\n",
      "56.2538175 39.26147251\n",
      "55.48216114 35.57070347\n",
      "93.1143888 38.80067034\n",
      "83.48916274 48.3802858\n",
      "38.7858038 64.99568096\n",
      "71.79646206 78.45356225\n",
      "99.31500881 68.77540947\n",
      "60.45555629 42.50840944\n",
      "40.23689374 71.16774802\n",
      "66.74671857 60.99139403\n",
      "40.45755098 97.53518549\n",
      "94.09433113 77.15910509\n",
      "76.0987867 87.42056972\n",
      "49.07256322 51.88321182\n",
      "50.28649612 49.80453881\n",
      "77.92409145 68.97235999\n",
      "49.58667722 59.80895099\n",
      "61.83020602 50.25610789\n"
     ]
    }
   ],
   "source": [
    "for j in range(0,80):\n",
    "    print(X_train1[j],X_train2[j])"
   ]
  },
  {
   "cell_type": "code",
   "execution_count": 181,
   "id": "arctic-optics",
   "metadata": {},
   "outputs": [
    {
     "data": {
      "text/plain": [
       "array([0, 0, 0, 1, 0, 1, 1, 0, 1, 1, 1, 0, 1, 0, 0, 1, 1, 1, 1, 0, 1, 1,\n",
       "       0, 1, 0, 0, 1, 1, 0, 1, 1, 1, 0, 1, 1, 1, 1, 1, 1, 1, 0, 0, 1, 1,\n",
       "       1, 1, 1, 0, 1, 1, 1, 1, 0, 0, 1, 0, 1, 1, 1, 0, 1, 1, 0, 0, 0, 1,\n",
       "       0, 1, 1, 0, 0, 1, 1, 1, 1, 0, 0, 1, 0, 0])"
      ]
     },
     "execution_count": 181,
     "metadata": {},
     "output_type": "execute_result"
    }
   ],
   "source": [
    "y_train = np.array(y_train)\n",
    "y_train"
   ]
  },
  {
   "cell_type": "code",
   "execution_count": 182,
   "id": "tender-signal",
   "metadata": {},
   "outputs": [],
   "source": [
    "y1 = b0 +b1*X_train1+ b2*X_train2\n",
    "y_pred1 = 1 / (1 + np.exp(-y1))"
   ]
  },
  {
   "cell_type": "code",
   "execution_count": null,
   "id": "exact-audience",
   "metadata": {},
   "outputs": [],
   "source": []
  },
  {
   "cell_type": "code",
   "execution_count": 183,
   "id": "seventh-entertainment",
   "metadata": {},
   "outputs": [],
   "source": [
    "y = b0 +b1*X_train1[j]+ b2*X_train2[j]\n",
    "pred = 1 /(1 + np.exp(-y))\n",
    "b0 = b0 + 0.01*(y_train[j]-pred)*pred*(1-pred)*1\n",
    "b1 = b1 + 0.01*(y_train[j]-pred)*pred*(1-pred)*X_train1[j]\n",
    "b2 = b2 + 0.01*(y_train[j]-pred)*pred*(1-pred)*X_train2[j]"
   ]
  },
  {
   "cell_type": "code",
   "execution_count": 184,
   "id": "guilty-disposal",
   "metadata": {},
   "outputs": [
    {
     "data": {
      "text/plain": [
       "0.5"
      ]
     },
     "execution_count": 184,
     "metadata": {},
     "output_type": "execute_result"
    }
   ],
   "source": [
    "pred"
   ]
  },
  {
   "cell_type": "code",
   "execution_count": 185,
   "id": "equivalent-dictionary",
   "metadata": {},
   "outputs": [],
   "source": [
    "db0 = -2* sum((y_train-pred)*pred*(1-pred))\n",
    "db1 = -2*sum((y_train-pred)*pred*(1-pred)*X_train1)\n",
    "db2 = -2*sum((y_train-pred)*pred*(1-pred)*X_train2)"
   ]
  },
  {
   "cell_type": "code",
   "execution_count": 186,
   "id": "minimal-cologne",
   "metadata": {},
   "outputs": [],
   "source": [
    "L = 0.001\n",
    "b0 = b0 - L*db0\n",
    "b1 = b1 - L*db1\n",
    "b2 = b2 - L*db2"
   ]
  },
  {
   "cell_type": "code",
   "execution_count": 187,
   "id": "blank-international",
   "metadata": {},
   "outputs": [
    {
     "data": {
      "text/plain": [
       "0.0032500000000000003"
      ]
     },
     "execution_count": 187,
     "metadata": {},
     "output_type": "execute_result"
    }
   ],
   "source": [
    "b0"
   ]
  },
  {
   "cell_type": "code",
   "execution_count": 188,
   "id": "focused-canvas",
   "metadata": {},
   "outputs": [
    {
     "data": {
      "text/plain": [
       "0.42150157724249987"
      ]
     },
     "execution_count": 188,
     "metadata": {},
     "output_type": "execute_result"
    }
   ],
   "source": [
    "b1"
   ]
  },
  {
   "cell_type": "code",
   "execution_count": 189,
   "id": "guided-vegetation",
   "metadata": {},
   "outputs": [
    {
     "data": {
      "text/plain": [
       "0.4301179006425002"
      ]
     },
     "execution_count": 189,
     "metadata": {},
     "output_type": "execute_result"
    }
   ],
   "source": [
    "b2"
   ]
  },
  {
   "cell_type": "code",
   "execution_count": 190,
   "id": "revolutionary-screening",
   "metadata": {},
   "outputs": [
    {
     "data": {
      "text/plain": [
       "42    1\n",
       "68    1\n",
       "76    1\n",
       "1     0\n",
       "74    1\n",
       "22    0\n",
       "83    1\n",
       "14    0\n",
       "36    0\n",
       "63    0\n",
       "93    1\n",
       "23    0\n",
       "84    1\n",
       "12    1\n",
       "65    0\n",
       "25    1\n",
       "32    0\n",
       "9     1\n",
       "71    1\n",
       "86    0\n",
       "Name: z, dtype: int64"
      ]
     },
     "execution_count": 190,
     "metadata": {},
     "output_type": "execute_result"
    }
   ],
   "source": [
    "y_test"
   ]
  },
  {
   "cell_type": "code",
   "execution_count": 191,
   "id": "talented-toolbox",
   "metadata": {},
   "outputs": [
    {
     "data": {
      "text/plain": [
       "array([94.44336777, 80.27957401, 47.26426911, 30.28671077, 58.84095622,\n",
       "       50.53478829, 57.23870632, 39.53833914, 33.91550011, 30.05882245,\n",
       "       74.49269242, 34.21206098, 80.366756  , 82.30705337, 66.56089447,\n",
       "       62.27101367, 52.10797973, 84.43281996, 64.03932042, 42.07545454])"
      ]
     },
     "execution_count": 191,
     "metadata": {},
     "output_type": "execute_result"
    }
   ],
   "source": [
    "X_test1 = X_test['x'].values\n",
    "X_test2 = X_test['y'].values\n",
    "X_test1"
   ]
  },
  {
   "cell_type": "code",
   "execution_count": 192,
   "id": "confused-ceremony",
   "metadata": {},
   "outputs": [
    {
     "data": {
      "text/plain": [
       "array([65.56892161, 92.11606081, 88.475865  , 43.89499752, 75.85844831,\n",
       "       48.85581153, 59.51428198, 76.03681085, 98.86943574, 49.59297387,\n",
       "       84.84513685, 44.2095286 , 90.9601479 , 76.4819633 , 41.09209808,\n",
       "       69.95445795, 63.12762377, 43.53339331, 78.03168802, 78.844786  ])"
      ]
     },
     "execution_count": 192,
     "metadata": {},
     "output_type": "execute_result"
    }
   ],
   "source": [
    "X_test2"
   ]
  },
  {
   "cell_type": "code",
   "execution_count": 193,
   "id": "desperate-deficit",
   "metadata": {},
   "outputs": [],
   "source": [
    "from sklearn.metrics import accuracy_score\n"
   ]
  },
  {
   "cell_type": "code",
   "execution_count": 194,
   "id": "resistant-conditions",
   "metadata": {},
   "outputs": [
    {
     "name": "stdout",
     "output_type": "stream",
     "text": [
      "0.55\n"
     ]
    }
   ],
   "source": [
    "ypred_test = b0 +b1*X_test1+ b2*X_test2\n",
    "y_pred = 1 /(1 + np.exp(-ypred_test))\n",
    "print(accuracy_score(y_test,np.round(y_pred)))\n"
   ]
  },
  {
   "cell_type": "code",
   "execution_count": null,
   "id": "sophisticated-pasta",
   "metadata": {},
   "outputs": [],
   "source": []
  },
  {
   "cell_type": "code",
   "execution_count": null,
   "id": "comparative-lincoln",
   "metadata": {},
   "outputs": [],
   "source": []
  }
 ],
 "metadata": {
  "kernelspec": {
   "display_name": "Python 3",
   "language": "python",
   "name": "python3"
  },
  "language_info": {
   "codemirror_mode": {
    "name": "ipython",
    "version": 3
   },
   "file_extension": ".py",
   "mimetype": "text/x-python",
   "name": "python",
   "nbconvert_exporter": "python",
   "pygments_lexer": "ipython3",
   "version": "3.7.3"
  }
 },
 "nbformat": 4,
 "nbformat_minor": 5
}
