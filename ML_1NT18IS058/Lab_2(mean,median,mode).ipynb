{
 "cells": [
  {
   "cell_type": "code",
   "execution_count": 7,
   "id": "constant-breakfast",
   "metadata": {},
   "outputs": [
    {
     "data": {
      "text/plain": [
       "5.0"
      ]
     },
     "execution_count": 7,
     "metadata": {},
     "output_type": "execute_result"
    }
   ],
   "source": [
    "a={1,2,3,4,5,6,7,8,9}\n",
    "x = sum(a)/len(a)\n",
    "x"
   ]
  },
  {
   "cell_type": "code",
   "execution_count": 14,
   "id": "sticky-still",
   "metadata": {},
   "outputs": [
    {
     "name": "stdout",
     "output_type": "stream",
     "text": [
      "Enter number of elements : 5\n",
      "1\n",
      "2\n",
      "2\n",
      "4\n",
      "5\n"
     ]
    },
    {
     "ename": "IndexError",
     "evalue": "list assignment index out of range",
     "output_type": "error",
     "traceback": [
      "\u001b[0;31m---------------------------------------------------------------------------\u001b[0m",
      "\u001b[0;31mIndexError\u001b[0m                                Traceback (most recent call last)",
      "\u001b[0;32m<ipython-input-14-0874487a1d09>\u001b[0m in \u001b[0;36m<module>\u001b[0;34m\u001b[0m\n\u001b[1;32m     27\u001b[0m     \u001b[0mlst\u001b[0m\u001b[0;34m.\u001b[0m\u001b[0mappend\u001b[0m\u001b[0;34m(\u001b[0m\u001b[0mele\u001b[0m\u001b[0;34m)\u001b[0m\u001b[0;34m\u001b[0m\u001b[0;34m\u001b[0m\u001b[0m\n\u001b[1;32m     28\u001b[0m \u001b[0;34m\u001b[0m\u001b[0m\n\u001b[0;32m---> 29\u001b[0;31m \u001b[0mmode\u001b[0m\u001b[0;34m(\u001b[0m\u001b[0mn\u001b[0m\u001b[0;34m)\u001b[0m\u001b[0;34m\u001b[0m\u001b[0;34m\u001b[0m\u001b[0m\n\u001b[0m",
      "\u001b[0;32m<ipython-input-14-0874487a1d09>\u001b[0m in \u001b[0;36mmode\u001b[0;34m(n)\u001b[0m\n\u001b[1;32m     14\u001b[0m                 \u001b[0mcount\u001b[0m \u001b[0;34m+=\u001b[0m \u001b[0;36m1\u001b[0m\u001b[0;34m\u001b[0m\u001b[0;34m\u001b[0m\u001b[0m\n\u001b[1;32m     15\u001b[0m \u001b[0;34m\u001b[0m\u001b[0m\n\u001b[0;32m---> 16\u001b[0;31m         \u001b[0marr\u001b[0m\u001b[0;34m[\u001b[0m\u001b[0mk\u001b[0m\u001b[0;34m]\u001b[0m \u001b[0;34m=\u001b[0m \u001b[0mcount\u001b[0m\u001b[0;34m\u001b[0m\u001b[0;34m\u001b[0m\u001b[0m\n\u001b[0m\u001b[1;32m     17\u001b[0m         \u001b[0mk\u001b[0m \u001b[0;34m=\u001b[0m \u001b[0mk\u001b[0m\u001b[0;34m+\u001b[0m\u001b[0;36m1\u001b[0m\u001b[0;34m\u001b[0m\u001b[0;34m\u001b[0m\u001b[0m\n\u001b[1;32m     18\u001b[0m     \u001b[0my\u001b[0m \u001b[0;34m=\u001b[0m \u001b[0mmax\u001b[0m\u001b[0;34m(\u001b[0m\u001b[0marr\u001b[0m\u001b[0;34m)\u001b[0m\u001b[0;34m\u001b[0m\u001b[0;34m\u001b[0m\u001b[0m\n",
      "\u001b[0;31mIndexError\u001b[0m: list assignment index out of range"
     ]
    }
   ],
   "source": [
    "def mean(n):\n",
    "    x = sum(lst)/len(lst)\n",
    "    print(x)\n",
    "\n",
    "def mode(n):\n",
    "    lst.sort()\n",
    "    count = 0\n",
    "    arr = []\n",
    "    k=1\n",
    "    for i in range(n):\n",
    "        count =0\n",
    "        for j in range(n):\n",
    "            if(lst[i] == lst[j]):\n",
    "                count += 1\n",
    "    \n",
    "        arr[k] = count\n",
    "        k = k+1\n",
    "    y = max(arr)\n",
    "    print(y)\n",
    "    \n",
    "    \n",
    "lst = []\n",
    "n = int(input(\"Enter number of elements : \"))\n",
    "\n",
    "for i in range(0, n):\n",
    "    ele = int(input())\n",
    "    lst.append(ele) \n",
    "    \n",
    "mode(n)\n"
   ]
  },
  {
   "cell_type": "code",
   "execution_count": 32,
   "id": "human-biology",
   "metadata": {},
   "outputs": [
    {
     "data": {
      "text/plain": [
       "(89.76923076923077, 87, 86)"
      ]
     },
     "execution_count": 32,
     "metadata": {},
     "output_type": "execute_result"
    }
   ],
   "source": [
    "import statistics\n",
    "\n",
    "speed = [99,86,87,88,111,86,103,87,94,78,77,85,86]\n",
    "\n",
    "x = statistics.mean(speed)\n",
    "y = statistics.median(speed)\n",
    "z = statistics.mode(speed)\n",
    "x,y,z\n",
    "\n",
    "\n"
   ]
  },
  {
   "cell_type": "code",
   "execution_count": 34,
   "id": "comic-standard",
   "metadata": {},
   "outputs": [
    {
     "name": "stdout",
     "output_type": "stream",
     "text": [
      "the variance is  92.85897435897435\n",
      "99 - 92.85897435897435 = 6.141025641025649\n",
      "86 - 92.85897435897435 = -6.858974358974351\n",
      "87 - 92.85897435897435 = -5.858974358974351\n",
      "88 - 92.85897435897435 = -4.858974358974351\n",
      "111 - 92.85897435897435 = 18.14102564102565\n",
      "86 - 92.85897435897435 = -6.858974358974351\n",
      "103 - 92.85897435897435 = 10.14102564102565\n",
      "87 - 92.85897435897435 = -5.858974358974351\n",
      "94 - 92.85897435897435 = 1.1410256410256494\n",
      "78 - 92.85897435897435 = -14.85897435897435\n",
      "77 - 92.85897435897435 = -15.85897435897435\n",
      "85 - 92.85897435897435 = -7.858974358974351\n",
      "86 - 92.85897435897435 = -6.858974358974351\n",
      "standard deviation is  9.636336148089395\n"
     ]
    }
   ],
   "source": [
    "import numpy\n",
    "data = [99,86,87,88,111,86,103,87,94,78,77,85,86]\n",
    "\n",
    "avg = 0\n",
    "data_mean = statistics.mean(data)\n",
    "\n",
    "for i in data:\n",
    "    sum = (i-data_mean)**2\n",
    "    avg = avg + sum\n",
    "var = avg/(len(data)-1)\n",
    "print(\"the variance is \",var)\n",
    "for i in data:\n",
    "    diff = i-var\n",
    "    print(i ,\"-\",var,\"=\",diff)\n",
    "    \n",
    "std = var**(1/2)\n",
    "print(\"standard deviation is \",std)"
   ]
  },
  {
   "cell_type": "code",
   "execution_count": null,
   "id": "occasional-falls",
   "metadata": {},
   "outputs": [],
   "source": []
  }
 ],
 "metadata": {
  "kernelspec": {
   "display_name": "Python 3",
   "language": "python",
   "name": "python3"
  },
  "language_info": {
   "codemirror_mode": {
    "name": "ipython",
    "version": 3
   },
   "file_extension": ".py",
   "mimetype": "text/x-python",
   "name": "python",
   "nbconvert_exporter": "python",
   "pygments_lexer": "ipython3",
   "version": "3.7.3"
  }
 },
 "nbformat": 4,
 "nbformat_minor": 5
}
