{
 "cells": [
  {
   "cell_type": "code",
   "execution_count": 1,
   "id": "herbal-resort",
   "metadata": {},
   "outputs": [],
   "source": [
    "x = 3 + 5"
   ]
  },
  {
   "cell_type": "code",
   "execution_count": 63,
   "id": "possible-export",
   "metadata": {},
   "outputs": [
    {
     "data": {
      "text/plain": [
       "' It is a very good day'"
      ]
     },
     "execution_count": 63,
     "metadata": {},
     "output_type": "execute_result"
    }
   ],
   "source": [
    "x\n"
   ]
  },
  {
   "cell_type": "code",
   "execution_count": 3,
   "id": "illegal-collectible",
   "metadata": {},
   "outputs": [
    {
     "data": {
      "text/plain": [
       "8"
      ]
     },
     "execution_count": 3,
     "metadata": {},
     "output_type": "execute_result"
    }
   ],
   "source": [
    "x = 3+5\n",
    "x"
   ]
  },
  {
   "cell_type": "code",
   "execution_count": 4,
   "id": "eligible-negative",
   "metadata": {},
   "outputs": [
    {
     "data": {
      "text/plain": [
       "(4, 3)"
      ]
     },
     "execution_count": 4,
     "metadata": {},
     "output_type": "execute_result"
    }
   ],
   "source": [
    "a = 3\n",
    "b = 4\n",
    "c = a\n",
    "a = b\n",
    "b = c\n",
    "a, b\n"
   ]
  },
  {
   "cell_type": "code",
   "execution_count": 5,
   "id": "portable-sheffield",
   "metadata": {},
   "outputs": [
    {
     "data": {
      "text/plain": [
       "12.23"
      ]
     },
     "execution_count": 5,
     "metadata": {},
     "output_type": "execute_result"
    }
   ],
   "source": [
    "a = 3\n",
    "b = 4.23\n",
    "c = 5.0\n",
    "a+b+c"
   ]
  },
  {
   "cell_type": "code",
   "execution_count": 62,
   "id": "mysterious-steps",
   "metadata": {},
   "outputs": [
    {
     "data": {
      "text/plain": [
       "'helloworld'"
      ]
     },
     "execution_count": 62,
     "metadata": {},
     "output_type": "execute_result"
    }
   ],
   "source": [
    "a = 'hello'\n",
    "b = 'world'\n",
    "a+b"
   ]
  },
  {
   "cell_type": "code",
   "execution_count": 7,
   "id": "primary-saudi",
   "metadata": {},
   "outputs": [
    {
     "data": {
      "text/plain": [
       "'hello21'"
      ]
     },
     "execution_count": 7,
     "metadata": {},
     "output_type": "execute_result"
    }
   ],
   "source": [
    "a = 'hello'\n",
    "b = '21'\n",
    "a+b"
   ]
  },
  {
   "cell_type": "code",
   "execution_count": 8,
   "id": "elementary-doctor",
   "metadata": {},
   "outputs": [
    {
     "name": "stdout",
     "output_type": "stream",
     "text": [
      "success\n"
     ]
    }
   ],
   "source": [
    "a = 10\n",
    "if(a<20):\n",
    "    print('success')\n",
    "else:\n",
    "    print('failure')\n",
    "    "
   ]
  },
  {
   "cell_type": "code",
   "execution_count": 61,
   "id": "czech-powell",
   "metadata": {},
   "outputs": [
    {
     "name": "stdout",
     "output_type": "stream",
     "text": [
      "13\n"
     ]
    }
   ],
   "source": [
    "a = 10\n",
    "b = 12\n",
    "c = 13\n",
    "if(a>b and a>c):\n",
    "    print(a)\n",
    "elif(b>a and b>c):\n",
    "    print(b)\n",
    "else:\n",
    "    print(c)\n"
   ]
  },
  {
   "cell_type": "code",
   "execution_count": null,
   "id": "suburban-circuit",
   "metadata": {},
   "outputs": [],
   "source": []
  },
  {
   "cell_type": "code",
   "execution_count": null,
   "id": "tracked-damage",
   "metadata": {},
   "outputs": [],
   "source": []
  },
  {
   "cell_type": "code",
   "execution_count": 14,
   "id": "caroline-lemon",
   "metadata": {},
   "outputs": [
    {
     "name": "stdout",
     "output_type": "stream",
     "text": [
      "13\n"
     ]
    }
   ],
   "source": [
    "a = 10\n",
    "b = 12\n",
    "c = 13\n",
    "if(a>b and a>c):\n",
    "    print(a)\n",
    "elif(b>a and b>c):\n",
    "    print(b)\n",
    "else:\n",
    "    print(c)\n"
   ]
  },
  {
   "cell_type": "code",
   "execution_count": 19,
   "id": "other-preservation",
   "metadata": {},
   "outputs": [
    {
     "name": "stdout",
     "output_type": "stream",
     "text": [
      "enter a: 3\n",
      "enter b: 4\n",
      "enter c: -\n",
      "-1\n"
     ]
    }
   ],
   "source": [
    "def calc(a,b,c):\n",
    "    if(c=='+'):\n",
    "        print(a+b)\n",
    "    elif(c=='-'):\n",
    "        print(a-b)\n",
    "    elif(c=='*'):\n",
    "        print(a*b)\n",
    "    else:\n",
    "        print(a/b)\n",
    "a=int(input('enter a: '))\n",
    "b=int(input('enter b: '))\n",
    "c=input('enter c: ')\n",
    "calc(a,b,c)"
   ]
  },
  {
   "cell_type": "code",
   "execution_count": 21,
   "id": "favorite-aquatic",
   "metadata": {},
   "outputs": [
    {
     "name": "stdout",
     "output_type": "stream",
     "text": [
      "enter a: 2\n",
      "enter b: 3\n",
      "enter c: +\n",
      "check again\n"
     ]
    }
   ],
   "source": [
    "def calc(a,b,c):\n",
    "    if(c=='+'):\n",
    "        print(a+b)\n",
    "    elif(c=='-'):\n",
    "        print(a-b)\n",
    "    elif(c=='*'):\n",
    "        print(a*b)\n",
    "    else:\n",
    "        print(a/b)\n",
    "a=int(input('enter a: '))\n",
    "b=int(input('enter b: '))\n",
    "c=input('enter c: ')\n",
    "\n",
    "x=2\n",
    "if(x==3):\n",
    "    calc(a,b,c)\n",
    "else:\n",
    "    print('check again')"
   ]
  },
  {
   "cell_type": "code",
   "execution_count": 22,
   "id": "undefined-snake",
   "metadata": {},
   "outputs": [],
   "source": [
    "a = 'sushanth'\n",
    "b = 'raju'\n",
    "c = a+b"
   ]
  },
  {
   "cell_type": "code",
   "execution_count": null,
   "id": "greenhouse-guidance",
   "metadata": {},
   "outputs": [],
   "source": []
  },
  {
   "cell_type": "code",
   "execution_count": 26,
   "id": "distributed-webmaster",
   "metadata": {},
   "outputs": [
    {
     "data": {
      "text/plain": [
       "'sushanthraju'"
      ]
     },
     "execution_count": 26,
     "metadata": {},
     "output_type": "execute_result"
    }
   ],
   "source": [
    "a = 'sushanth'\n",
    "b = 'raju'\n",
    "c = a+b\n",
    "c\n"
   ]
  },
  {
   "cell_type": "code",
   "execution_count": 27,
   "id": "brave-prescription",
   "metadata": {},
   "outputs": [
    {
     "name": "stdout",
     "output_type": "stream",
     "text": [
      "susha\n"
     ]
    }
   ],
   "source": [
    "a = 'sushanth'\n",
    "b = 'raju'\n",
    "c = a+b\n",
    "print(c[0:5])"
   ]
  },
  {
   "cell_type": "code",
   "execution_count": 29,
   "id": "practical-victim",
   "metadata": {},
   "outputs": [
    {
     "data": {
      "text/plain": [
       "'sushanthujar'"
      ]
     },
     "execution_count": 29,
     "metadata": {},
     "output_type": "execute_result"
    }
   ],
   "source": [
    "a = 'sushanth'\n",
    "b = 'raju'\n",
    "c = a+b[::-1]\n",
    "c\n"
   ]
  },
  {
   "cell_type": "code",
   "execution_count": null,
   "id": "photographic-control",
   "metadata": {},
   "outputs": [],
   "source": []
  },
  {
   "cell_type": "code",
   "execution_count": 31,
   "id": "freelance-backup",
   "metadata": {},
   "outputs": [
    {
     "data": {
      "text/plain": [
       "'ujarhtnahsus'"
      ]
     },
     "execution_count": 31,
     "metadata": {},
     "output_type": "execute_result"
    }
   ],
   "source": [
    "a = 'sushanth'\n",
    "b = 'raju'\n",
    "c = a+b\n",
    "c[::-1]"
   ]
  },
  {
   "cell_type": "code",
   "execution_count": 32,
   "id": "meaning-funeral",
   "metadata": {},
   "outputs": [
    {
     "data": {
      "text/plain": [
       "'raju'"
      ]
     },
     "execution_count": 32,
     "metadata": {},
     "output_type": "execute_result"
    }
   ],
   "source": [
    "a = 'sushanth'\n",
    "b = 'raju'\n",
    "a = b\n",
    "a"
   ]
  },
  {
   "cell_type": "code",
   "execution_count": 33,
   "id": "frequent-contract",
   "metadata": {},
   "outputs": [
    {
     "data": {
      "text/plain": [
       "['It', 'is', 'a', 'very', 'good', 'day']"
      ]
     },
     "execution_count": 33,
     "metadata": {},
     "output_type": "execute_result"
    }
   ],
   "source": [
    "x = ' It is a very good day'\n",
    "a = x.split()\n",
    "a"
   ]
  },
  {
   "cell_type": "code",
   "execution_count": 48,
   "id": "processed-egypt",
   "metadata": {},
   "outputs": [
    {
     "name": "stdout",
     "output_type": "stream",
     "text": [
      "50\n",
      "20\n",
      "high\n",
      "30\n",
      "a\n",
      "b\n",
      "23\n",
      "35\n",
      "a\n",
      "b\n",
      "23\n",
      "35\n"
     ]
    },
    {
     "data": {
      "text/plain": [
       "[50, 20, 'high', 30, 'a', 'b', 23, 35]"
      ]
     },
     "execution_count": 48,
     "metadata": {},
     "output_type": "execute_result"
    }
   ],
   "source": [
    "lst = [50, 20, 'high', 30]\n",
    "lst1= ['a', 'b', 23, 35]\n",
    "lst = lst+lst1\n",
    "for i in lst+lst1:\n",
    "    print(i)\n",
    "lst"
   ]
  },
  {
   "cell_type": "code",
   "execution_count": 47,
   "id": "upper-imaging",
   "metadata": {},
   "outputs": [
    {
     "data": {
      "text/plain": [
       "[20, 'high', 30]"
      ]
     },
     "execution_count": 47,
     "metadata": {},
     "output_type": "execute_result"
    }
   ],
   "source": [
    "lst[1:4]"
   ]
  },
  {
   "cell_type": "code",
   "execution_count": 49,
   "id": "specific-trinity",
   "metadata": {},
   "outputs": [],
   "source": [
    "lst[1]=25"
   ]
  },
  {
   "cell_type": "code",
   "execution_count": 51,
   "id": "exceptional-arcade",
   "metadata": {},
   "outputs": [
    {
     "data": {
      "text/plain": [
       "list"
      ]
     },
     "execution_count": 51,
     "metadata": {},
     "output_type": "execute_result"
    }
   ],
   "source": [
    "lst\n",
    "type(lst)"
   ]
  },
  {
   "cell_type": "code",
   "execution_count": 52,
   "id": "valued-hands",
   "metadata": {},
   "outputs": [
    {
     "data": {
      "text/plain": [
       "tuple"
      ]
     },
     "execution_count": 52,
     "metadata": {},
     "output_type": "execute_result"
    }
   ],
   "source": [
    "tup = (2,3,43,5,56)\n",
    "type(tup)"
   ]
  },
  {
   "cell_type": "code",
   "execution_count": 56,
   "id": "sublime-montana",
   "metadata": {},
   "outputs": [
    {
     "name": "stdout",
     "output_type": "stream",
     "text": [
      "hello\n"
     ]
    }
   ],
   "source": [
    "dict = {1:20, 2:'hello'}\n",
    "print(dict[2])"
   ]
  },
  {
   "cell_type": "code",
   "execution_count": 60,
   "id": "similar-player",
   "metadata": {},
   "outputs": [
    {
     "name": "stdout",
     "output_type": "stream",
     "text": [
      "hello\n"
     ]
    }
   ],
   "source": [
    "dict1 = {1:20, 'xd':'hello'}\n",
    "print(dict1['xd'])"
   ]
  },
  {
   "cell_type": "code",
   "execution_count": null,
   "id": "backed-fifteen",
   "metadata": {},
   "outputs": [],
   "source": []
  },
  {
   "cell_type": "code",
   "execution_count": null,
   "id": "broke-oregon",
   "metadata": {},
   "outputs": [],
   "source": []
  }
 ],
 "metadata": {
  "kernelspec": {
   "display_name": "Python 3",
   "language": "python",
   "name": "python3"
  },
  "language_info": {
   "codemirror_mode": {
    "name": "ipython",
    "version": 3
   },
   "file_extension": ".py",
   "mimetype": "text/x-python",
   "name": "python",
   "nbconvert_exporter": "python",
   "pygments_lexer": "ipython3",
   "version": "3.7.3"
  }
 },
 "nbformat": 4,
 "nbformat_minor": 5
}
